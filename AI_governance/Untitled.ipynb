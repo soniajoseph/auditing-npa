{
 "cells": [
  {
   "cell_type": "code",
   "execution_count": 8,
   "metadata": {},
   "outputs": [
    {
     "name": "stdout",
     "output_type": "stream",
     "text": [
      "\u001b[31mERROR: Exception:\n",
      "Traceback (most recent call last):\n",
      "  File \"/cvmfs/ai.mila.quebec/apps/x86_64/debian/python/3.7/lib/python3.7/site-packages/pip/_vendor/packaging/requirements.py\", line 98, in __init__\n",
      "    req = REQUIREMENT.parseString(requirement_string)\n",
      "  File \"/cvmfs/ai.mila.quebec/apps/x86_64/debian/python/3.7/lib/python3.7/site-packages/pip/_vendor/pyparsing.py\", line 1955, in parseString\n",
      "    raise exc\n",
      "  File \"/cvmfs/ai.mila.quebec/apps/x86_64/debian/python/3.7/lib/python3.7/site-packages/pip/_vendor/pyparsing.py\", line 3250, in parseImpl\n",
      "    raise ParseException(instring, loc, self.errmsg, self)\n",
      "pip._vendor.pyparsing.ParseException: Expected W:(abcd...), found '/'  (at char 0), (line:1, col:1)\n",
      "\n",
      "During handling of the above exception, another exception occurred:\n",
      "\n",
      "Traceback (most recent call last):\n",
      "  File \"/cvmfs/ai.mila.quebec/apps/x86_64/debian/python/3.7/lib/python3.7/site-packages/pip/_internal/req/constructors.py\", line 359, in parse_req_from_line\n",
      "    req = Requirement(req_as_string)\n",
      "  File \"/cvmfs/ai.mila.quebec/apps/x86_64/debian/python/3.7/lib/python3.7/site-packages/pip/_vendor/packaging/requirements.py\", line 102, in __init__\n",
      "    requirement_string[e.loc : e.loc + 8], e.msg\n",
      "pip._vendor.packaging.requirements.InvalidRequirement: Parse error at \"'/home/mi'\": Expected W:(abcd...)\n",
      "\n",
      "During handling of the above exception, another exception occurred:\n",
      "\n",
      "Traceback (most recent call last):\n",
      "  File \"/cvmfs/ai.mila.quebec/apps/x86_64/debian/python/3.7/lib/python3.7/site-packages/pip/_internal/cli/base_command.py\", line 216, in _main\n",
      "    status = self.run(options, args)\n",
      "  File \"/cvmfs/ai.mila.quebec/apps/x86_64/debian/python/3.7/lib/python3.7/site-packages/pip/_internal/cli/req_command.py\", line 182, in wrapper\n",
      "    return func(self, options, args)\n",
      "  File \"/cvmfs/ai.mila.quebec/apps/x86_64/debian/python/3.7/lib/python3.7/site-packages/pip/_internal/commands/install.py\", line 295, in run\n",
      "    reqs = self.get_requirements(args, options, finder, session)\n",
      "  File \"/cvmfs/ai.mila.quebec/apps/x86_64/debian/python/3.7/lib/python3.7/site-packages/pip/_internal/cli/req_command.py\", line 319, in get_requirements\n",
      "    user_supplied=True,\n",
      "  File \"/cvmfs/ai.mila.quebec/apps/x86_64/debian/python/3.7/lib/python3.7/site-packages/pip/_internal/req/constructors.py\", line 409, in install_req_from_line\n",
      "    parts = parse_req_from_line(name, line_source)\n",
      "  File \"/cvmfs/ai.mila.quebec/apps/x86_64/debian/python/3.7/lib/python3.7/site-packages/pip/_internal/req/constructors.py\", line 363, in parse_req_from_line\n",
      "    add_msg += deduce_helpful_msg(req_as_string)\n",
      "  File \"/cvmfs/ai.mila.quebec/apps/x86_64/debian/python/3.7/lib/python3.7/site-packages/pip/_internal/req/constructors.py\", line 167, in deduce_helpful_msg\n",
      "    next(parse_requirements(fp.read()))\n",
      "  File \"/cvmfs/ai.mila.quebec/apps/x86_64/debian//python/3.7/lib/python3.7/codecs.py\", line 322, in decode\n",
      "    (result, consumed) = self._buffer_decode(data, self.errors, final)\n",
      "UnicodeDecodeError: 'utf-8' codec can't decode byte 0xa8 in position 40: invalid start byte\u001b[0m\n",
      "\u001b[33mWARNING: You are using pip version 20.2.2; however, version 23.3.1 is available.\n",
      "You should consider upgrading via the '/cvmfs/ai.mila.quebec/apps/x86_64/debian//python/3.7/bin/python3.7 -m pip install --upgrade pip' command.\u001b[0m\n"
     ]
    }
   ],
   "source": [
    "!pip install recommenders --target = '/home/mila/s/sonia.joseph/myenv/bin/python'"
   ]
  },
  {
   "cell_type": "code",
   "execution_count": 1,
   "metadata": {},
   "outputs": [
    {
     "ename": "ModuleNotFoundError",
     "evalue": "No module named 'recommenders'",
     "output_type": "error",
     "traceback": [
      "\u001b[0;31m---------------------------------------------------------------------------\u001b[0m",
      "\u001b[0;31mModuleNotFoundError\u001b[0m                       Traceback (most recent call last)",
      "\u001b[0;32m/tmp/ipykernel_56168/3351851705.py\u001b[0m in \u001b[0;36m<module>\u001b[0;34m\u001b[0m\n\u001b[0;32m----> 1\u001b[0;31m \u001b[0;32mimport\u001b[0m \u001b[0mrecommenders\u001b[0m\u001b[0;34m\u001b[0m\u001b[0;34m\u001b[0m\u001b[0m\n\u001b[0m",
      "\u001b[0;31mModuleNotFoundError\u001b[0m: No module named 'recommenders'"
     ]
    }
   ],
   "source": [
    "import recommenders"
   ]
  },
  {
   "cell_type": "code",
   "execution_count": null,
   "metadata": {},
   "outputs": [],
   "source": []
  }
 ],
 "metadata": {
  "kernelspec": {
   "display_name": "Python 3 (myenv)",
   "language": "python",
   "name": "myenv"
  },
  "language_info": {
   "codemirror_mode": {
    "name": "ipython",
    "version": 3
   },
   "file_extension": ".py",
   "mimetype": "text/x-python",
   "name": "python",
   "nbconvert_exporter": "python",
   "pygments_lexer": "ipython3",
   "version": "3.7.6"
  }
 },
 "nbformat": 4,
 "nbformat_minor": 4
}
